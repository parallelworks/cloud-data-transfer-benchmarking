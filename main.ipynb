{
 "cells": [
  {
   "cell_type": "markdown",
   "id": "06aad8f1",
   "metadata": {},
   "source": [
    "# Cloud Data Transfer Speeds Benchmarking Workflow"
   ]
  },
  {
   "cell_type": "markdown",
   "id": "28551822",
   "metadata": {},
   "source": [
    "Add overview of workflow"
   ]
  },
  {
   "cell_type": "markdown",
   "id": "2cb52c47",
   "metadata": {},
   "source": [
    "## Step 0: Load Required Setup Packages & Classes"
   ]
  },
  {
   "cell_type": "markdown",
   "id": "76e427e0",
   "metadata": {},
   "source": [
    "Installs required workflow setup packages and calls UI generation script. If one or more of the packages don't exist in your `base` environment, they will install for you. Note that if installation is required, this cell will take a few minutes to complete execution."
   ]
  },
  {
   "cell_type": "code",
   "execution_count": 1,
   "id": "a73185f9",
   "metadata": {},
   "outputs": [],
   "source": [
    "while True:\n",
    "    try:\n",
    "        import ipywidgets as widgets\n",
    "        from varname import nameof\n",
    "        from jupyter_ui_poll import ui_events\n",
    "        break\n",
    "    except:\n",
    "        ! conda install -y -c conda-forge ipywidgets\n",
    "        ! conda install -y -c conda-forge varname\n",
    "        ! pip install jupyter-ui-poll\n",
    "import time\n",
    "import os\n",
    "import subprocess\n",
    "import json\n",
    "%run -i input_ui.py"
   ]
  },
  {
   "cell_type": "markdown",
   "id": "7be35fd4",
   "metadata": {},
   "source": [
    "## Step 1: Define Workflow Inputs"
   ]
  },
  {
   "cell_type": "markdown",
   "id": "60fbb9d5",
   "metadata": {},
   "source": [
    "**NOTE: Do not attempt to rerun the cells in Step 1 while `In[*]:` is visible in the top left corner next to the cell. If you do this, the kernel will need to be restarted.**"
   ]
  },
  {
   "cell_type": "markdown",
   "id": "9b7e7e51",
   "metadata": {},
   "source": [
    "### Cloud Resource & Storage Information"
   ]
  },
  {
   "cell_type": "markdown",
   "id": "2c315b5b",
   "metadata": {},
   "source": [
    "Run the following cell to generate input fields for resource names and cloud object store URIs. The resource name(s) you specify will write and read data to and from the cloud object storage location(s) you provide. If using the PW cloud storage feature, you may also input an aboslute path specifying the mount point of your cloud object storage."
   ]
  },
  {
   "cell_type": "code",
   "execution_count": 2,
   "id": "3aa25f17",
   "metadata": {},
   "outputs": [
    {
     "name": "stdout",
     "output_type": "stream",
     "text": [
      "1. Input desired resource name(s):\n"
     ]
    },
    {
     "data": {
      "application/vnd.jupyter.widget-view+json": {
       "model_id": "",
       "version_major": 2,
       "version_minor": 0
      },
      "text/plain": [
       "Box(children=(Button(description='Add field', style=ButtonStyle()), Button(description='Remove field', style=B…"
      ]
     },
     "metadata": {},
     "output_type": "display_data"
    },
    {
     "data": {
      "application/vnd.jupyter.widget-view+json": {
       "model_id": "",
       "version_major": 2,
       "version_minor": 0
      },
      "text/plain": [
       "VBox(children=(Text(value='', description='Resource 1:', placeholder='Input resource name'),))"
      ]
     },
     "metadata": {},
     "output_type": "display_data"
    },
    {
     "name": "stdout",
     "output_type": "stream",
     "text": [
      "\u001b[1mSaved resource name(s): ('gcptestnew',) \n",
      "\n",
      "\u001b[0m\n",
      "2. Input desired cloud object store URI(s) or mount point(s):\n"
     ]
    },
    {
     "data": {
      "application/vnd.jupyter.widget-view+json": {
       "model_id": "",
       "version_major": 2,
       "version_minor": 0
      },
      "text/plain": [
       "Box(children=(Button(description='Add field', style=ButtonStyle()), Button(description='Remove field', style=B…"
      ]
     },
     "metadata": {},
     "output_type": "display_data"
    },
    {
     "data": {
      "application/vnd.jupyter.widget-view+json": {
       "model_id": "",
       "version_major": 2,
       "version_minor": 0
      },
      "text/plain": [
       "VBox(children=(Text(value='', description='Storage 1:', placeholder='Input URI or absolute path'),))"
      ]
     },
     "metadata": {},
     "output_type": "display_data"
    },
    {
     "name": "stdout",
     "output_type": "stream",
     "text": [
      "\u001b[1mSaved cloud object store locations: ('/home/jgreen/clouddatabenchmarks',) \n",
      "\n",
      "\u001b[0m\n",
      "Execution complete. Rerun cell to reset inputs.\n"
     ]
    }
   ],
   "source": [
    "# Call resource input UI\n",
    "print('1. Input desired resource name(s):')\n",
    "placeholder = 'Input resource name'\n",
    "description = 'Resource'\n",
    "resources = getStrings.run_ui(placeholder, description)\n",
    "print('\\033[1m' + 'Saved resource name(s):', resources, '\\n\\n' + '\\033[0m')\n",
    "\n",
    "# Call storage location input UI\n",
    "print('2. Input desired cloud object store URI(s) or mount point(s):')\n",
    "placeholder = 'Input URI or absolute path'\n",
    "description = 'Storage'\n",
    "storage = getStrings.run_ui(placeholder, description)\n",
    "print('\\033[1m' + 'Saved cloud object store locations:', storage, '\\n\\n' + '\\033[0m')\n",
    "print('Execution complete. Rerun cell to reset inputs.')"
   ]
  },
  {
   "cell_type": "markdown",
   "id": "09a4c5eb",
   "metadata": {},
   "source": [
    "### Randomly Generated File Options"
   ]
  },
  {
   "cell_type": "markdown",
   "id": "2ed6588c",
   "metadata": {},
   "source": [
    "This workflow is designed to work with user inputs of CSV, NetCDF, and/or binary file formats but also includes the option to define randomly generated data sets of each type, respectively. Run the following cell to generate input fields for defining these datasets. \n",
    "\n",
    "**NOTE: This cell must be run and submitted for each execution of the workflow, even if you do not wish to use randomly generated files. In future versions, there will be a unified UI for user input.**"
   ]
  },
  {
   "cell_type": "code",
   "execution_count": 23,
   "id": "1d3f1802",
   "metadata": {
    "scrolled": true
   },
   "outputs": [
    {
     "name": "stdout",
     "output_type": "stream",
     "text": [
      "3. Randomly Generated File Options:\n"
     ]
    },
    {
     "data": {
      "application/vnd.jupyter.widget-view+json": {
       "model_id": "",
       "version_major": 2,
       "version_minor": 0
      },
      "text/plain": [
       "Dropdown(description='Resource to write files with:', options=('gcptestnew',), value='gcptestnew')"
      ]
     },
     "metadata": {},
     "output_type": "display_data"
    },
    {
     "data": {
      "application/vnd.jupyter.widget-view+json": {
       "model_id": "",
       "version_major": 2,
       "version_minor": 0
      },
      "text/plain": [
       "HBox(children=(Checkbox(value=False, description='CSV'), Checkbox(value=False, description='NetCDF4'), Checkbo…"
      ]
     },
     "metadata": {},
     "output_type": "display_data"
    },
    {
     "data": {
      "application/vnd.jupyter.widget-view+json": {
       "model_id": "",
       "version_major": 2,
       "version_minor": 0
      },
      "text/plain": [
       "HBox(children=(FloatText(value=0.0), FloatText(value=0.0), FloatText(value=0.0)))"
      ]
     },
     "metadata": {},
     "output_type": "display_data"
    },
    {
     "data": {
      "application/vnd.jupyter.widget-view+json": {
       "model_id": "",
       "version_major": 2,
       "version_minor": 0
      },
      "text/plain": [
       "Button(description='Submit', style=ButtonStyle())"
      ]
     },
     "metadata": {},
     "output_type": "display_data"
    },
    {
     "name": "stdout",
     "output_type": "stream",
     "text": [
      "\u001b[1mWill use ('gcptestnew',) to write:\n",
      "\n",
      "- 0.1 GB CSV\n",
      "\n",
      "files to provided cloud object stores.\u001b[0m\n",
      "\n",
      "\n",
      "Execution complete. Rerun cell to reset randomly generated file option inputs.\n"
     ]
    }
   ],
   "source": [
    "# Call randonly generated file options UI\n",
    "print('3. Randomly Generated File Options:')\n",
    "rand_options = randOpts.run_ui(resources)\n",
    "\n",
    "# Populate variables to be exported\n",
    "rand_resource = rand_options[0]\n",
    "rand_filetype = rand_options[1]\n",
    "rand_filesize = rand_options[2]\n",
    "\n",
    "# Print confirmation messages\n",
    "print('\\033[1m' + 'Will use', rand_resource, 'to write:\\n')\n",
    "for i in range(len(rand_filetype)):\n",
    "    message = str(rand_filesize[i]) + ' GB ' + rand_filetype[i]\n",
    "    print('- ' + message)\n",
    "print('\\nfiles to provided cloud object stores.' + '\\033[0m')\n",
    "print('\\n\\nExecution complete. Rerun cell to reset randomly generated file option inputs.')"
   ]
  },
  {
   "cell_type": "markdown",
   "id": "590d585b",
   "metadata": {},
   "source": [
    "## Step 2: Notebook Setup"
   ]
  },
  {
   "cell_type": "markdown",
   "id": "026357bb",
   "metadata": {},
   "source": [
    "Run the cell below when you are finished with all input. \n",
    "\n",
    "**IF YOU NEED TO CHANGE ANY INPUT, DO SO BEFORE RUNNING THIS CELL. THIS IS THE POINT OF NO RETURN.**"
   ]
  },
  {
   "cell_type": "code",
   "execution_count": 28,
   "id": "eff33e3a",
   "metadata": {},
   "outputs": [
    {
     "name": "stdout",
     "output_type": "stream",
     "text": [
      "Setting up workflow...\n",
      "Generating random files...\n",
      "Shredding run_rand_files.sh\n",
      "Workflow setup complete.\n"
     ]
    }
   ],
   "source": [
    "print('Setting up workflow...')\n",
    "\n",
    "# Gather all user input\n",
    "\n",
    "# Set cloud resource & storage environment variables\n",
    "os.environ[\"resources\"] = json.dumps(resources)\n",
    "os.environ[\"benchmark_storage\"] = json.dumps(storage)\n",
    "\n",
    "# Set randomly generated file option environment variables\n",
    "os.environ[\"randgen_files\"] = json.dumps(rand_filetype)\n",
    "os.environ[\"randgen_sizes\"] = json.dumps(rand_filesize)\n",
    "os.environ[\"randgen_resource\"] = json.dumps(rand_resource)\n",
    "\n",
    "env_variables = (\"resources\", \"benchmark_storage\", \"randgen_files\", \"randgen_sizes\", \"randgen_resource\")\n",
    "\n",
    "# Execute Setup Script\n",
    "for n in env_variables:\n",
    "    command = \"export \" + n\n",
    "    subprocess.run([command], shell=True)\n",
    "\n",
    "! chmod u+x workflow_notebook_setup.sh\n",
    "! ./workflow_notebook_setup.sh\n",
    "\n",
    "print('Workflow setup complete.')"
   ]
  }
 ],
 "metadata": {
  "kernelspec": {
   "display_name": "Python 3 (ipykernel)",
   "language": "python",
   "name": "python3"
  },
  "language_info": {
   "codemirror_mode": {
    "name": "ipython",
    "version": 3
   },
   "file_extension": ".py",
   "mimetype": "text/x-python",
   "name": "python",
   "nbconvert_exporter": "python",
   "pygments_lexer": "ipython3",
   "version": "3.9.1"
  }
 },
 "nbformat": 4,
 "nbformat_minor": 5
}
