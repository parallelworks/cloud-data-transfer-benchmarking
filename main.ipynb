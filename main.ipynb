{
 "cells": [
  {
   "cell_type": "markdown",
   "id": "06aad8f1",
   "metadata": {},
   "source": [
    "# Cloud Data Transfer Speeds Benchmarking Workflow"
   ]
  },
  {
   "cell_type": "markdown",
   "id": "28551822",
   "metadata": {},
   "source": [
    "Add overview of workflow"
   ]
  },
  {
   "cell_type": "markdown",
   "id": "7be35fd4",
   "metadata": {},
   "source": [
    "## Step 1: Define Workflow Inputs"
   ]
  },
  {
   "cell_type": "markdown",
   "id": "65405efa",
   "metadata": {},
   "source": [
    "### Download required UI dependencies"
   ]
  },
  {
   "cell_type": "code",
   "execution_count": null,
   "id": "3ea2da5a",
   "metadata": {},
   "outputs": [],
   "source": [
    "! conda install -y -c conda-forge ipywidgets\n",
    "! pip install jupyter-ui-poll"
   ]
  },
  {
   "cell_type": "markdown",
   "id": "3f283596",
   "metadata": {},
   "source": [
    "### Import required libraries and setup UI"
   ]
  },
  {
   "cell_type": "code",
   "execution_count": null,
   "id": "3b894b23",
   "metadata": {},
   "outputs": [],
   "source": [
    "import ipywidgets as widgets\n",
    "from jupyter_ui_poll import ui_events\n",
    "import time\n",
    "import os\n",
    "import subprocess\n",
    "import json\n",
    "\n",
    "def confirmation_click(btn):\n",
    "    global clicked\n",
    "    clicked = True\n",
    "\n",
    "class get_info:\n",
    "    def add_names(self, btn):\n",
    "        self.nameWidget.append(widgets.Text(placeholder='Input name'))\n",
    "        display(self.nameWidget[-1])\n",
    "        \n",
    "    def del_names(self, btn):\n",
    "        if len(self.nameWidget) > 1:\n",
    "            self.nameWidget[-1].close()\n",
    "            self.nameWidget.pop()\n",
    "            \n",
    "    def first_name(self):\n",
    "        self.nameWidget = []\n",
    "        self.nameWidget.append(widgets.Text(\n",
    "                        placeholder='Input name'))\n",
    "        display(self.nameWidget[0])\n",
    "            \n",
    "getInfo = get_info()"
   ]
  },
  {
   "cell_type": "markdown",
   "id": "9b7e7e51",
   "metadata": {},
   "source": [
    "### Cloud Resource & Storage Information"
   ]
  },
  {
   "cell_type": "markdown",
   "id": "2c315b5b",
   "metadata": {},
   "source": [
    "Run the following cell to generate interactive widgets that allow you to choose the number and names of resources and cloud storage locations you would like to use in the benchmarks. **You should only rerun this cell if you entered the incorrect number of resources or cloud object stores. The names of these respective inputs can be changed without rerunning.**"
   ]
  },
  {
   "cell_type": "code",
   "execution_count": null,
   "id": "3aa25f17",
   "metadata": {},
   "outputs": [],
   "source": [
    "clicked = False\n",
    "button_purpose = ['Add field', 'Remove field', 'Submit']\n",
    "buttons = []\n",
    "for i in range(len(button_purpose)):\n",
    "    buttons.append(widgets.Button(description=button_purpose[i]))\n",
    "    display(buttons[i])\n",
    "    \n",
    "buttons[0].on_click(getInfo.add_names)\n",
    "buttons[1].on_click(getInfo.del_names)\n",
    "buttons[2].on_click(confirmation_click)\n",
    "\n",
    "getInfo.first_name()\n",
    "\n",
    "with ui_events() as poll:\n",
    "    while not clicked:\n",
    "        poll(10)\n",
    "        time.sleep(0.1)\n",
    "print('Resource names accpeted and recorded. Rerun cell to reset.')"
   ]
  },
  {
   "cell_type": "markdown",
   "id": "09a4c5eb",
   "metadata": {},
   "source": [
    "### Randomly Generated File Options"
   ]
  },
  {
   "cell_type": "markdown",
   "id": "f9ac4475",
   "metadata": {},
   "source": [
    "Any desired randomly generated files will be written to all cloud storage locations specified in the **Cloud Resource Information** section. The ensures that all the cloud object stores that the benchmarks test will have identical randomly generated files for a fair comparison.\n",
    "\n",
    "- `<filetype> (dict) = {'Create': <bool>, 'SizeGB': <int/float>]`\n",
    "\n",
    "   1. Filetype will always correspond to three different formats: CSV, NetCDF, and a general binary file.\n",
    "   \n",
    "   2. `'Create': <bool>` - **True** creates file, **False** does not.\n",
    "   \n",
    "   3. `'SizeGB': <int/float>` - *Optional* argument that determines the file size of the randomly generated file. Can be omitted if ` If not explicitly stated and `'Create'` is set to **True**, default value of `SizeGB` will be **1**."
   ]
  },
  {
   "cell_type": "code",
   "execution_count": null,
   "id": "f7f7e016",
   "metadata": {},
   "outputs": [],
   "source": [
    "csv = {'Create': True, 'SizeGB': 1} # Will generate a 1 GB .csv file\n",
    "netcdf = {'Create': False, 'SizeGB': 0}\n",
    "binary = {'Create': False}"
   ]
  },
  {
   "cell_type": "markdown",
   "id": "590d585b",
   "metadata": {},
   "source": [
    "## Step 2: Notebook Setup"
   ]
  },
  {
   "cell_type": "code",
   "execution_count": null,
   "id": "eff33e3a",
   "metadata": {},
   "outputs": [],
   "source": [
    "print('Setting up workflow...')\n",
    "\n",
    "# Set cloud resource & storage environment variables\n",
    "for i in range(len(resources)):\n",
    "    resources[i] = resources[i].value\n",
    "for i in range(len(storage)):\n",
    "    storage[i] = storage[i].value\n",
    "os.environ[\"resources\"] = json.dumps(bench_resources)\n",
    "os.environ[\"benchmark_storage\"] = json.dumps(bench_storage)\n",
    "\n",
    "# Set randomly generated file option environment variables\n",
    "rfiles = [csv, netcdf, binary]\n",
    "for i in range(len(rfiles)):\n",
    "    if len(rfiles[i]) > 2:\n",
    "        print('Too many arguments in', )\n",
    "\n",
    "\n",
    "rand_filetype = list(map(str, [csv[0], netcdf[0], binary[0]]))\n",
    "rand_filesize = list(map(str, [csv[1], netcdf[1], binary[1]]))\n",
    "os.environ[\"randgen_files\"] = json.dumps(rand_filetype)\n",
    "os.environ[\"randgen_sizes\"] = json.dumps(rand_filesize)\n",
    "\n",
    "# Execute Setup Script\n",
    "env_variables = [\"resources\", \"benchmark_storage\", \"randgen_files\", \"randgen_sizes\"]\n",
    "for n in env_variables:\n",
    "    command = \"export \" + n\n",
    "    subprocess.run([command], shell=True)\n",
    "\n",
    "! chmod u+x workflow_notebook_setup.sh\n",
    "! ./workflow_notebook_setup.sh\n",
    "\n",
    "print('Workflow setup complete.')"
   ]
  }
 ],
 "metadata": {
  "kernelspec": {
   "display_name": "Python 3 (ipykernel)",
   "language": "python",
   "name": "python3"
  },
  "language_info": {
   "codemirror_mode": {
    "name": "ipython",
    "version": 3
   },
   "file_extension": ".py",
   "mimetype": "text/x-python",
   "name": "python",
   "nbconvert_exporter": "python",
   "pygments_lexer": "ipython3",
   "version": "3.9.1"
  }
 },
 "nbformat": 4,
 "nbformat_minor": 5
}
