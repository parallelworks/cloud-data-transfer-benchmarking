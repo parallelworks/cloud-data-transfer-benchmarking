{
 "cells": [
  {
   "cell_type": "markdown",
   "id": "06aad8f1",
   "metadata": {},
   "source": [
    "# Cloud Data Transfer Speeds Benchmarking Workflow"
   ]
  },
  {
   "cell_type": "markdown",
   "id": "28551822",
   "metadata": {},
   "source": [
    "Add overview of workflow"
   ]
  },
  {
   "cell_type": "markdown",
   "id": "7be35fd4",
   "metadata": {},
   "source": [
    "## Step 1: Define Workflow Inputs"
   ]
  },
  {
   "cell_type": "markdown",
   "id": "9b7e7e51",
   "metadata": {},
   "source": [
    "### Cloud Resource & Storage Information"
   ]
  },
  {
   "cell_type": "markdown",
   "id": "9477f7c9",
   "metadata": {},
   "source": [
    "- `resources (list) = [\"<resource-1-name>\", \"<resource-2-name>\", ..., \"<resource-n-name>\"]`\n",
    "    \n",
    "    Input the names of as many resources as you wish to run the benchmarks on. The name(s) of your resource(s) can be found on the **`RESOURCES`** tab in the Parallel Works platform.\n",
    "    \n",
    "    \n",
    "- `storage (list) = [\"<URI-1>\", \"<URI-2>\", ..., \"<URI-n>\"]`\n",
    "\n",
    "    This list determines what cloud object store(s) you would like to run the benchmarks on. You may enter any number of storage locations.\n"
   ]
  },
  {
   "cell_type": "code",
   "execution_count": 2,
   "id": "ac11934d",
   "metadata": {},
   "outputs": [],
   "source": [
    "resources = [\"gcptest\"]\n",
    "storage = [\"gs://cloud-data-benchmarks/\"]"
   ]
  },
  {
   "cell_type": "markdown",
   "id": "09a4c5eb",
   "metadata": {},
   "source": [
    "### Randomly Generated File Options"
   ]
  },
  {
   "cell_type": "markdown",
   "id": "f9ac4475",
   "metadata": {},
   "source": [
    "Any desired randomly generated files will be written to all cloud storage locations specified in the **Cloud Resource Information** section. The ensures that all the cloud object stores that the benchmarks test will have identical randomly generated files for a fair comparison.\n",
    "\n",
    "- `<filetype> (list) = [<Boolean>, <int>]`\n",
    "\n",
    "   Filetype will always correspond to three different formats: CSV, NetCDF, and a general binary file. The first term in the tuple, the boolean, sets whether the workflow will randomly generate a file of the indicated format. `True` creates the file, and `False` does not.\n",
    "   \n",
    "   The second term, an integer, represents the file size in GB. If the first term is set to `False`, the second term can be set to anything. **NOTE: THE SECOND TERM MUST ALWAYS BE POPULATED. DO NOT LEAVE IT BLANK** "
   ]
  },
  {
   "cell_type": "code",
   "execution_count": 3,
   "id": "f7f7e016",
   "metadata": {},
   "outputs": [],
   "source": [
    "csv = [True, 1]\n",
    "netcdf = [False, 0]\n",
    "binary = [False, 0]"
   ]
  },
  {
   "cell_type": "markdown",
   "id": "590d585b",
   "metadata": {},
   "source": [
    "## Step 2: Notebook Setup"
   ]
  },
  {
   "cell_type": "code",
   "execution_count": 11,
   "id": "eff33e3a",
   "metadata": {},
   "outputs": [
    {
     "name": "stdout",
     "output_type": "stream",
     "text": [
      "Setting up workflow...\n",
      "Workflow setup complete.\n"
     ]
    }
   ],
   "source": [
    "print('Setting up workflow...')\n",
    "\n",
    "# Import basic packages\n",
    "import os\n",
    "import subprocess\n",
    "import json\n",
    "\n",
    "# Set cloud resource & storage environment variables\n",
    "os.environ[\"resources\"] = json.dumps(resources)\n",
    "os.environ[\"benchmark_storage\"] = json.dumps(storage)\n",
    "\n",
    "# Set randomly generated file option environment variables\n",
    "rand_filetype = list(map(str, [csv[0], netcdf[0], binary[0]]))\n",
    "rand_filesize = list(map(str, [csv[1], netcdf[1], binary[1]]))\n",
    "os.environ[\"randgen_files\"] = json.dumps(rand_filetype)\n",
    "os.environ[\"randgen_sizes\"] = json.dumps(rand_filesize)\n",
    "\n",
    "# Execute Setup Script\n",
    "env_variables = [\"resources\", \"benchmark_storage\", \"randgen_files\", \"randgen_sizes\"]\n",
    "for n in env_variables:\n",
    "    command = \"export \" + n\n",
    "    subprocess.run([command], shell=True)\n",
    "\n",
    "! chmod u+x workflow_notebook_setup.sh\n",
    "! ./workflow_notebook_setup.sh\n",
    "\n",
    "print('Workflow setup complete.')"
   ]
  }
 ],
 "metadata": {
  "kernelspec": {
   "display_name": "Python 3 (ipykernel)",
   "language": "python",
   "name": "python3"
  },
  "language_info": {
   "codemirror_mode": {
    "name": "ipython",
    "version": 3
   },
   "file_extension": ".py",
   "mimetype": "text/x-python",
   "name": "python",
   "nbconvert_exporter": "python",
   "pygments_lexer": "ipython3",
   "version": "3.9.1"
  }
 },
 "nbformat": 4,
 "nbformat_minor": 5
}
