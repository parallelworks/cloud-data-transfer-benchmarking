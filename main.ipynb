{
 "cells": [
  {
   "cell_type": "markdown",
   "id": "06aad8f1",
   "metadata": {},
   "source": [
    "# Cloud Data Transfer Speeds Benchmarking Workflow"
   ]
  },
  {
   "cell_type": "markdown",
   "id": "28551822",
   "metadata": {},
   "source": [
    "Add overview of workflow"
   ]
  },
  {
   "cell_type": "markdown",
   "id": "2cb52c47",
   "metadata": {},
   "source": [
    "## Step 0: Load Required Setup Packages & Classes"
   ]
  },
  {
   "cell_type": "markdown",
   "id": "76e427e0",
   "metadata": {},
   "source": [
    "Installs required workflow setup packages and calls UI generation script. If one or more of the packages don't exist in your `base` environment, they will install for you. Note that if installation is required, this cell will take a few minutes to complete execution."
   ]
  },
  {
   "cell_type": "code",
   "execution_count": null,
   "id": "a73185f9",
   "metadata": {},
   "outputs": [],
   "source": [
    "import os\n",
    "import json\n",
    "import sys\n",
    "sys.path.insert(0, os.getcwd() + '/utils/jupyter-user-input')\n",
    "import ui_helpers as ui"
   ]
  },
  {
   "cell_type": "markdown",
   "id": "7be35fd4",
   "metadata": {},
   "source": [
    "## Step 1: Define Workflow Inputs"
   ]
  },
  {
   "cell_type": "markdown",
   "id": "9b7e7e51",
   "metadata": {},
   "source": [
    "### Cloud Compute Clusters"
   ]
  },
  {
   "cell_type": "code",
   "execution_count": null,
   "id": "f21753c7",
   "metadata": {},
   "outputs": [],
   "source": [
    "resources = ui.resourceWidgets()\n",
    "resources.display()"
   ]
  },
  {
   "cell_type": "code",
   "execution_count": null,
   "id": "38e8077c",
   "metadata": {},
   "outputs": [],
   "source": [
    "resources = [{\"Name\" : \"gcptestnew\",\n",
    "              \"Controller\" : \"PW\",\n",
    "              \"CSP\" : \"GCP\",\n",
    "              \"Dask Options\" : {\"Scheduler\" : \"Slurm\",\n",
    "                                \"Partition\" : \"compute\",\n",
    "                                \"Nodes\" : 5,\n",
    "                                \"WorkerMemoryGB\" : 4\n",
    "                               }\n",
    "             }]"
   ]
  },
  {
   "cell_type": "markdown",
   "id": "6aa4fe8c",
   "metadata": {},
   "source": [
    "### Cloud Object Stores"
   ]
  },
  {
   "cell_type": "code",
   "execution_count": null,
   "id": "6b144152",
   "metadata": {},
   "outputs": [],
   "source": [
    "storage = ui.storageWidgets()\n",
    "storage.display()"
   ]
  },
  {
   "cell_type": "code",
   "execution_count": null,
   "id": "419a263a",
   "metadata": {},
   "outputs": [],
   "source": [
    "storage = [{\"URI/Path\" : \"/home/jgreen/clouddatabenchmarks\",\n",
    "            \"CSP\" : None\n",
    "           }]"
   ]
  },
  {
   "cell_type": "markdown",
   "id": "09a4c5eb",
   "metadata": {},
   "source": [
    "### Randomly Generated File Options"
   ]
  },
  {
   "cell_type": "code",
   "execution_count": null,
   "id": "66083d30",
   "metadata": {},
   "outputs": [],
   "source": [
    "randfiles = [{\"Format\" : \"CSV\",\n",
    "             \"Generate\" : False,\n",
    "             \"SizeGB\" : 1\n",
    "             },\n",
    "             {\"Format\" : \"NetCDF4\",\n",
    "              \"Generate\": False,\n",
    "              \"SizeGB\" : 1,\n",
    "              \"Data Variables\" : 1,\n",
    "              \"Float Coords\" : 2,\n",
    "              \"Time Coords\" : 1\n",
    "             },\n",
    "             {\"Format\" : \"Binary\",\n",
    "              \"Generate\" : False,\n",
    "              \"SizeGB\" : 1\n",
    "             },\n",
    "             {\"Resource\" : resources[0]\n",
    "             }]"
   ]
  },
  {
   "cell_type": "markdown",
   "id": "590d585b",
   "metadata": {},
   "source": [
    "## Step 2: Notebook Setup"
   ]
  },
  {
   "cell_type": "code",
   "execution_count": null,
   "id": "eff33e3a",
   "metadata": {},
   "outputs": [],
   "source": [
    "print('Setting up workflow...')\n",
    "\n",
    "user_input = json.dumps({\"RESOURCES\" : resources,\n",
    "             \"STORAGE\" : storage,\n",
    "             \"RANDFILES\" : randfiles})\n",
    "\n",
    "with open('user_input.json', 'w') as outfile:\n",
    "    outfile.write(user_input)\n",
    "\n",
    "\n",
    "#! chmod u+x workflow_notebook_setup.sh\n",
    "#! ./workflow_notebook_setup.sh\n",
    "\n",
    "print('Workflow setup complete.')"
   ]
  }
 ],
 "metadata": {
  "kernelspec": {
   "display_name": "Python 3 (ipykernel)",
   "language": "python",
   "name": "python3"
  },
  "language_info": {
   "codemirror_mode": {
    "name": "ipython",
    "version": 3
   },
   "file_extension": ".py",
   "mimetype": "text/x-python",
   "name": "python",
   "nbconvert_exporter": "python",
   "pygments_lexer": "ipython3",
   "version": "3.9.1"
  }
 },
 "nbformat": 4,
 "nbformat_minor": 5
}
