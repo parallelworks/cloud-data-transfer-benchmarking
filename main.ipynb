{
 "cells": [
  {
   "cell_type": "markdown",
   "id": "06aad8f1",
   "metadata": {},
   "source": [
    "# Cloud Data Transfer Speeds Benchmarking Workflow"
   ]
  },
  {
   "cell_type": "markdown",
   "id": "28551822",
   "metadata": {},
   "source": [
    "Add overview of workflow"
   ]
  },
  {
   "cell_type": "markdown",
   "id": "7be35fd4",
   "metadata": {},
   "source": [
    "## Step 1: Define Workflow Inputs"
   ]
  },
  {
   "cell_type": "markdown",
   "id": "2f94b6d6",
   "metadata": {},
   "source": [
    "Add more detailed explanation of workflow inputs. More inputs will be added as workflow development progresses."
   ]
  },
  {
   "cell_type": "markdown",
   "id": "9b7e7e51",
   "metadata": {},
   "source": [
    "### Computing Resource Information"
   ]
  },
  {
   "cell_type": "markdown",
   "id": "9477f7c9",
   "metadata": {},
   "source": [
    "Input the names of as many resources as you wish to run the benchmarks on. The name(s) of your resource(s) can be found on the **`RESOURCES`** tab in the Parallel Works platform.\n",
    "\n",
    "Sample Input:\n",
    "\n",
    "`resources = [\"<resource-1-name>\", \"<resource-2-name>\", ..., \"<resource-n-name>\"]`"
   ]
  },
  {
   "cell_type": "code",
   "execution_count": 27,
   "id": "ac11934d",
   "metadata": {},
   "outputs": [],
   "source": [
    "resources = [\"gcptest\"]"
   ]
  },
  {
   "cell_type": "markdown",
   "id": "09a4c5eb",
   "metadata": {},
   "source": [
    "### Randomly Generated File Options"
   ]
  },
  {
   "cell_type": "markdown",
   "id": "f9ac4475",
   "metadata": {},
   "source": [
    "First element determines if the file will be generated, second element determines the file size.\n",
    "\n",
    "\n",
    "**NOTE: The second element does not matter if the first is set to \"False\", but it still needs to be included**\n",
    "\n",
    "Sample Input:\n",
    "\n",
    "`filetype = [<True/False>, <Desired size of generated file (in GB)>]`"
   ]
  },
  {
   "cell_type": "code",
   "execution_count": null,
   "id": "f7f7e016",
   "metadata": {},
   "outputs": [],
   "source": [
    "csv = [True, 1]\n",
    "netcdf = [False, 0]\n",
    "binary = [False, 0]"
   ]
  },
  {
   "cell_type": "markdown",
   "id": "590d585b",
   "metadata": {},
   "source": [
    "## Step 2: Notebook Setup"
   ]
  },
  {
   "cell_type": "code",
   "execution_count": 3,
   "id": "eff33e3a",
   "metadata": {},
   "outputs": [
    {
     "name": "stdout",
     "output_type": "stream",
     "text": [
      "gcptest\n"
     ]
    }
   ],
   "source": [
    "import os\n",
    "import sys\n",
    "import json\n",
    "\n",
    "os.environ[\"resources\"] = json.dumps(resources)  \n",
    "\n",
    "filetype = list(map(str, [csv[0], netcdf[0], binary[0]]))\n",
    "filesize = list(map(str, [csv[1], netcdf[1], binary[1]]))\n",
    "os.environ[\"randgen_files\"] = json.dumps(filetype)\n",
    "os.environ[\"randgen_sizes\"] = json.dumps(filesize)\n",
    "#os.environ[\"FILESIZE\"] = \"1\" # The desired file sizes (IN GB) for randomly generated files"
   ]
  }
 ],
 "metadata": {
  "kernelspec": {
   "display_name": "Python 3 (ipykernel)",
   "language": "python",
   "name": "python3"
  },
  "language_info": {
   "codemirror_mode": {
    "name": "ipython",
    "version": 3
   },
   "file_extension": ".py",
   "mimetype": "text/x-python",
   "name": "python",
   "nbconvert_exporter": "python",
   "pygments_lexer": "ipython3",
   "version": "3.9.1"
  }
 },
 "nbformat": 4,
 "nbformat_minor": 5
}
