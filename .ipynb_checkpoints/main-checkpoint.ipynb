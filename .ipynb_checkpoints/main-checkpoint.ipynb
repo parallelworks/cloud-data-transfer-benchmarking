{
 "cells": [
  {
   "cell_type": "markdown",
   "id": "06aad8f1",
   "metadata": {},
   "source": [
    "# Cloud Data Transfer Speeds Benchmarking Workflow"
   ]
  },
  {
   "cell_type": "markdown",
   "id": "28551822",
   "metadata": {},
   "source": [
    "Add overview of workflow"
   ]
  },
  {
   "cell_type": "markdown",
   "id": "7be35fd4",
   "metadata": {},
   "source": [
    "## Define Workflow Inputs"
   ]
  },
  {
   "cell_type": "code",
   "execution_count": 2,
   "id": "ac11934d",
   "metadata": {},
   "outputs": [
    {
     "name": "stdout",
     "output_type": "stream",
     "text": [
      "Defining workflow inputs...\n",
      "Done defining inputs.\n"
     ]
    }
   ],
   "source": [
    "import os\n",
    "import sys\n",
    "\n",
    "print('Defining workflow inputs...')\n",
    "\n",
    "# Resource Information\n",
    "os.environ[\"RESOURCE_NAME\"] = \"gcptest\" # Input the desired resource name found in the \"RESOURCES\" tab in the PW platform\n",
    "\n",
    "# Random File Options\n",
    "os.environ[\"FILETYPE\"] = \"CSV\" # Input which file you would like to be randomly generated\n",
    "os.environ[\"FILESIZE\"] = \"1\" # The desired file sizes (IN GB) for randomly generated files\n",
    "\n",
    "print('Done defining inputs.')"
   ]
  },
  {
   "cell_type": "markdown",
   "id": "590d585b",
   "metadata": {},
   "source": [
    "## Notebook Setup"
   ]
  },
  {
   "cell_type": "code",
   "execution_count": 3,
   "id": "eff33e3a",
   "metadata": {},
   "outputs": [
    {
     "name": "stdout",
     "output_type": "stream",
     "text": [
      "gcptest\n"
     ]
    }
   ],
   "source": [
    "print(os.environ['RESOURCE_NAME'])"
   ]
  }
 ],
 "metadata": {
  "kernelspec": {
   "display_name": "Python 3 (ipykernel)",
   "language": "python",
   "name": "python3"
  },
  "language_info": {
   "codemirror_mode": {
    "name": "ipython",
    "version": 3
   },
   "file_extension": ".py",
   "mimetype": "text/x-python",
   "name": "python",
   "nbconvert_exporter": "python",
   "pygments_lexer": "ipython3",
   "version": "3.9.1"
  }
 },
 "nbformat": 4,
 "nbformat_minor": 5
}
